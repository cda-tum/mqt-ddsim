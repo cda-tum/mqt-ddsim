{
 "cells": [
  {
   "cell_type": "markdown",
   "id": "efcf2cf2c3fb1318",
   "metadata": {},
   "source": [
    "# Simulation Path Framework"
   ]
  },
  {
   "cell_type": "raw",
   "id": "3fb4e800384a408d",
   "metadata": {
    "raw_mimetype": "text/restructuredtext"
   },
   "source": [
    "DDSIM also provides a framework for exploiting arbitrary simulation paths (using the `taskflow <https://github.com/taskflow/taskflow>`_ library) based on the methods proposed in :cite:p:`burgholzer2022simulation`.\n",
    "\n",
    ".. note:: As of mqt-ddsim v2.0.0, the Cotengra-based workflow for translating circuits to tensor networks and deriving contraction strategies has been removed. If you want to check out the respective code, please checkout prior versions of mqt-ddsim."
   ]
  },
  {
   "cell_type": "markdown",
   "id": "635772d225f638e9",
   "metadata": {},
   "source": [
    "\n",
    "A *simulation path* describes the order in which the individual MxV or MxM multiplications are conducted during the simulation of a quantum circuit.\n",
    "It can be described as a list of tuples that identify the individual states/operations to be multiplied.\n",
    "The initial state is always assigned `ID 0`, while the i-th operation is assigned `ID i`.\n",
    "The result of a multiplication is assigned the next highest, unused ID, e.g., in a circuit with `|G|` gates the result of the first multiplication is assigned `ID |G|+1`.\n",
    "\n",
    "The framework comes with several pre-defined simulation path strategies:\n",
    "\n",
    "- `sequential` (*default*): simulate the circuit sequentially from left to right using only MxV multiplications\n",
    "- `pairwise_recursive`: recursively group pairs of states and operations to form a binary tree of MxV/MxM multiplications\n",
    "- `bracket`: group certain number of operations according to a given `bracket_size`\n",
    "- `alternating`: start the simulation in the middle of the circuit and alternate between applications of gates \"from the left\" and \"from the right\" (useful for equivalence checking).\n",
    "\n",
    "## Simulating a simple circuit\n",
    "\n",
    "This example shall serve as a showcase on how to use the simulation path framework (via Python).\n",
    "First, create the circuit to be simulated using qiskit, e.g., in this case a three-qubit GHZ state:"
   ]
  },
  {
   "cell_type": "code",
   "execution_count": null,
   "id": "aef4ca5b86e38fc9",
   "metadata": {},
   "outputs": [],
   "source": [
    "from qiskit import QuantumCircuit\n",
    "\n",
    "circ = QuantumCircuit(3)\n",
    "# the initial state corresponds to ID 0\n",
    "circ.h(0)  # corresponds to ID 1\n",
    "circ.cx(0, 1)  # corresponds to ID 2\n",
    "circ.cx(0, 2)  # corresponds to ID 3\n",
    "\n",
    "circ.draw(output=\"mpl\", style=\"iqp\")"
   ]
  },
  {
   "cell_type": "markdown",
   "id": "ad2c6fa25ce27bc",
   "metadata": {},
   "source": [
    "Then, obtain the simulation path framework qiskit backend. You can choose between the `path_sim_qasm_simulator` and the `path_sim_statevector_simulator`.\n",
    "The first just yields a dictionary with the counts of the measurements, while the latter also provides the complete statevector (which, depending on the amount of qubits, might not fit in the available memory)."
   ]
  },
  {
   "cell_type": "code",
   "execution_count": null,
   "id": "bdb63fadf86c402f",
   "metadata": {},
   "outputs": [],
   "source": [
    "from mqt.ddsim import DDSIMProvider\n",
    "\n",
    "provider = DDSIMProvider()\n",
    "backend = provider.get_backend(\"path_sim_qasm_simulator\")"
   ]
  },
  {
   "cell_type": "markdown",
   "id": "6fe60b448756c6a0",
   "metadata": {},
   "source": [
    "Per default, the backend uses the `sequential` strategy. For this particular example, this means:\n",
    " - first, the Hadamard operation is applied to the initial state (`[0, 1] -> 4`)\n",
    " - then, the first CNOT is applied (`[4, 2] -> 5`)\n",
    " - finally, the last CNOT is applied (`[5, 3] -> 6`)\n",
    "\n",
    " The corresponding simulation path is thus described by `[[0, 1], [4, 2], [5, 3]]` and the final state is the one with `ID 6`.\n",
    "\n",
    "The simulation is started by calling the `run` method on the backend, which takes several optional configuration parameters (such as the simulation path strategy).\n",
    "For a complete list of configuration options see [here](#configuration)."
   ]
  },
  {
   "cell_type": "code",
   "execution_count": null,
   "id": "3b0de61c463c6654",
   "metadata": {},
   "outputs": [],
   "source": [
    "job = backend.run(circ)\n",
    "result = job.result()\n",
    "print(result.get_counts())"
   ]
  },
  {
   "cell_type": "markdown",
   "id": "47e2f5c383980291",
   "metadata": {},
   "source": [
    "## Configuration\n",
    "\n",
    "The framework can be configured using multiple options (which can be passed to the `backend.run()` method):\n",
    "\n",
    "- `mode`: the simulation path mode to use (`sequential`, `pairwise_recursive`, `bracket`, `alternating`))\n",
    "- `bracket_size`: the bracket size used for the `bracket` mode (default: `2`)\n",
    "- `alternating_start`: the id of the operation to start with in the `alternating` mode (default: `0`)\n",
    "- `seed`: the random seed used for the simulator (default `0`, i.e., no particular seed)."
   ]
  }
 ],
 "metadata": {
  "kernelspec": {
   "display_name": "Python 3 (ipykernel)",
   "language": "python",
   "name": "python3"
  },
  "language_info": {
   "codemirror_mode": {
    "name": "ipython",
    "version": 3
   },
   "file_extension": ".py",
   "mimetype": "text/x-python",
   "name": "python",
   "nbconvert_exporter": "python",
   "pygments_lexer": "ipython3"
  }
 },
 "nbformat": 4,
 "nbformat_minor": 5
}
