{
 "cells": [
  {
   "cell_type": "markdown",
   "id": "4d4881d244ef852a",
   "metadata": {},
   "source": [
    "# Unitary Simulator\n",
    "\n",
    "The *Unitary Simulator* uses the same underlying techniques as the *Circuit Simulator*, but instead of computing the final state vector, it computes the unitary matrix that represents the (functionality of the) quantum circuit.\n",
    "Specifically, given a quantum circuit $G=g_0g_1\\ldots g_{|G|-1}$, the unitary simulator computes the matrix $U=U_{{|G|-1}}\\ldots U_{1}U_{0}$, where $U_g$ is the unitary matrix that represents the functionality of the gate $g$.\n",
    "\n",
    "To this end, it starts off with the decision diagram representation of the identity $I$ (which is maximally compact as a decision diagram) and then applies the gates of the circuit one by one. \n",
    "The DD representation of the unitary is updated in each step.\n",
    "The final result is a decision diagram that represents the unitary matrix $U$.\n",
    "Note that, by definition, this simulator can only handle circuits composed of unitary operations.\n",
    "\n",
    "In general, the unitary matrix for an $n$-qubit circuit is a $2^n \\times 2^n$ matrix.\n",
    "The decision diagram representation of such a matrix can be exponentially more compact than the full matrix representation.\n",
    "Hence, as the other simulators, the unitary simulator can take advantage of the decision diagram representation to efficiently compute a representation of the functionality of the quantum circuit, even in cases where the full matrix representation would be infeasible due to its exponential size.\n",
    "\n",
    "## Computing a simple unitary\n",
    "\n",
    "Let us start by computing the unitary matrix of a simple quantum circuit. Out of convenience, the following will use the `QuantumCircuit` class from Qiskit to define the circuit. \n",
    "However, the unitary simulator generally accepts the same input types as all other simulators (e.g., OpenQASM)."
   ]
  },
  {
   "cell_type": "code",
   "execution_count": null,
   "id": "7525ba6c8f53337b",
   "metadata": {},
   "outputs": [],
   "source": [
    "from qiskit import QuantumCircuit\n",
    "\n",
    "qc = QuantumCircuit(1)\n",
    "qc.x(0)\n",
    "\n",
    "qc.draw(output=\"mpl\", style=\"iqp\")"
   ]
  },
  {
   "cell_type": "code",
   "execution_count": null,
   "id": "86ddada11a16499",
   "metadata": {},
   "outputs": [],
   "source": [
    "import graphviz\n",
    "\n",
    "from mqt.core import load\n",
    "from mqt.ddsim import UnitarySimulator\n",
    "\n",
    "# Create the simulator\n",
    "circ = load(qc)\n",
    "sim = UnitarySimulator(circ)\n",
    "\n",
    "# Construct the decision diagram representation of the unitary\n",
    "sim.construct()\n",
    "\n",
    "# Get the decision diagram representation of the unitary\n",
    "dot = sim.export_dd_to_graphviz_str(colored=True, edge_labels=True, classic=False)\n",
    "\n",
    "graphviz.Source(source=dot)"
   ]
  },
  {
   "cell_type": "code",
   "execution_count": null,
   "id": "53a3a21cc66ab47a",
   "metadata": {},
   "outputs": [],
   "source": [
    "import numpy as np\n",
    "\n",
    "from mqt.ddsim import get_matrix\n",
    "\n",
    "# Get the matrix representation of the unitary\n",
    "unitary = np.zeros((2**qc.num_qubits, 2**qc.num_qubits), dtype=np.complex128)\n",
    "get_matrix(sim, unitary)\n",
    "\n",
    "print(unitary)"
   ]
  },
  {
   "cell_type": "markdown",
   "id": "bdfa2d6215903149",
   "metadata": {},
   "source": [
    "## Examples\n",
    "\n",
    "The following examples demonstrate a couple of different aspects about the unitary simulator.\n",
    "\n",
    "### Multiple qubits and qubit ordering"
   ]
  },
  {
   "cell_type": "code",
   "execution_count": null,
   "id": "a09547d5459498fa",
   "metadata": {},
   "outputs": [],
   "source": [
    "from qiskit import QuantumCircuit\n",
    "\n",
    "qc = QuantumCircuit(2)\n",
    "qc.x(0)\n",
    "\n",
    "qc.draw(output=\"mpl\", style=\"iqp\", wire_order=[1, 0])"
   ]
  },
  {
   "cell_type": "code",
   "execution_count": null,
   "id": "5a4c75a318294663",
   "metadata": {},
   "outputs": [],
   "source": [
    "import graphviz\n",
    "\n",
    "from mqt.core import load\n",
    "from mqt.ddsim import UnitarySimulator\n",
    "\n",
    "# Create the simulator\n",
    "circ = load(qc)\n",
    "sim = UnitarySimulator(circ)\n",
    "\n",
    "# Construct the decision diagram representation of the unitary\n",
    "sim.construct()\n",
    "\n",
    "# Get the decision diagram representation of the unitary\n",
    "dot = sim.export_dd_to_graphviz_str(colored=True, edge_labels=True, classic=False)\n",
    "\n",
    "graphviz.Source(source=dot)"
   ]
  },
  {
   "cell_type": "code",
   "execution_count": null,
   "id": "3696e12a9b17d5d4",
   "metadata": {},
   "outputs": [],
   "source": [
    "import numpy as np\n",
    "\n",
    "from mqt.ddsim import get_matrix\n",
    "\n",
    "unitary = np.zeros((2**qc.num_qubits, 2**qc.num_qubits), dtype=np.complex128)\n",
    "\n",
    "get_matrix(sim, unitary)\n",
    "\n",
    "unitary"
   ]
  },
  {
   "cell_type": "markdown",
   "id": "aaa0d98638cca3df",
   "metadata": {},
   "source": [
    "Now, consider applying the gate to the other qubit instead."
   ]
  },
  {
   "cell_type": "code",
   "execution_count": null,
   "id": "f1eb490df4f1f168",
   "metadata": {},
   "outputs": [],
   "source": [
    "from qiskit import QuantumCircuit\n",
    "\n",
    "qc = QuantumCircuit(2)\n",
    "qc.x(1)\n",
    "\n",
    "qc.draw(output=\"mpl\", style=\"iqp\", wire_order=[1, 0])"
   ]
  },
  {
   "cell_type": "code",
   "execution_count": null,
   "id": "9f81cbdd7f7f39b6",
   "metadata": {},
   "outputs": [],
   "source": [
    "import graphviz\n",
    "\n",
    "from mqt.core import load\n",
    "from mqt.ddsim import UnitarySimulator\n",
    "\n",
    "# Create the simulator\n",
    "circ = load(qc)\n",
    "sim = UnitarySimulator(circ)\n",
    "\n",
    "# Construct the decision diagram representation of the unitary\n",
    "sim.construct()\n",
    "\n",
    "# Get the decision diagram representation of the unitary\n",
    "dot = sim.export_dd_to_graphviz_str(colored=True, edge_labels=True, classic=False)\n",
    "\n",
    "graphviz.Source(source=dot)"
   ]
  },
  {
   "cell_type": "code",
   "execution_count": null,
   "id": "2afb59bdfa7221c6",
   "metadata": {},
   "outputs": [],
   "source": [
    "import numpy as np\n",
    "\n",
    "from mqt.ddsim import get_matrix\n",
    "\n",
    "unitary = np.zeros((2**qc.num_qubits, 2**qc.num_qubits), dtype=np.complex128)\n",
    "\n",
    "get_matrix(sim, unitary)\n",
    "\n",
    "unitary"
   ]
  },
  {
   "cell_type": "markdown",
   "id": "e287b6e2f213daf2",
   "metadata": {},
   "source": [
    "### Multi-controlled quantum operations\n",
    "\n",
    "The following shows an example of how efficiently decision diagrams can represent multi-controlled quantum operations."
   ]
  },
  {
   "cell_type": "code",
   "execution_count": null,
   "id": "d375a6c8ddc2ba72",
   "metadata": {},
   "outputs": [],
   "source": [
    "from qiskit import QuantumCircuit\n",
    "\n",
    "num_qubits = 8\n",
    "qc = QuantumCircuit(num_qubits)\n",
    "qc.mcx(control_qubits=list(reversed(range(1, num_qubits))), target_qubit=0)\n",
    "\n",
    "qc.draw(output=\"mpl\", style=\"iqp\", wire_order=list(reversed(range(num_qubits))))"
   ]
  },
  {
   "cell_type": "code",
   "execution_count": null,
   "id": "94705e83e35777a3",
   "metadata": {},
   "outputs": [],
   "source": [
    "import graphviz\n",
    "\n",
    "from mqt.core import load\n",
    "from mqt.ddsim import UnitarySimulator\n",
    "\n",
    "# Create the simulator\n",
    "circ = load(qc)\n",
    "sim = UnitarySimulator(circ)\n",
    "\n",
    "# Construct the decision diagram representation of the unitary\n",
    "sim.construct()\n",
    "\n",
    "# Get the decision diagram representation of the unitary\n",
    "dot = sim.export_dd_to_graphviz_str(colored=True, edge_labels=True, classic=False)\n",
    "\n",
    "graphviz.Source(source=dot)"
   ]
  },
  {
   "cell_type": "code",
   "execution_count": null,
   "id": "c042ba76f1e07f87",
   "metadata": {},
   "outputs": [],
   "source": [
    "import numpy as np\n",
    "\n",
    "from mqt.ddsim import get_matrix\n",
    "\n",
    "unitary = np.zeros((2**qc.num_qubits, 2**qc.num_qubits), dtype=np.complex128)\n",
    "\n",
    "get_matrix(sim, unitary)\n",
    "\n",
    "print(unitary)"
   ]
  },
  {
   "cell_type": "markdown",
   "id": "96ba2af5c777daad",
   "metadata": {},
   "source": [
    "### Unitary of a complete circuit\n",
    "\n",
    "The following computes the unitary for a circuit consisting of multiple gates."
   ]
  },
  {
   "cell_type": "code",
   "execution_count": null,
   "id": "6d284638cd1e7493",
   "metadata": {},
   "outputs": [],
   "source": [
    "from qiskit import QuantumCircuit\n",
    "\n",
    "num_qubits = 5\n",
    "qc = QuantumCircuit(num_qubits)\n",
    "qc.h(num_qubits - 1)\n",
    "for i in reversed(range(num_qubits - 1)):\n",
    "    qc.cx(num_qubits - 1, i)\n",
    "\n",
    "qc.draw(output=\"mpl\", style=\"iqp\", wire_order=list(reversed(range(num_qubits))))"
   ]
  },
  {
   "cell_type": "code",
   "execution_count": null,
   "id": "47720abd56bd9e3a",
   "metadata": {},
   "outputs": [],
   "source": [
    "import graphviz\n",
    "\n",
    "from mqt.core import load\n",
    "from mqt.ddsim import UnitarySimulator\n",
    "\n",
    "# Create the simulator\n",
    "circ = load(qc)\n",
    "sim = UnitarySimulator(circ)\n",
    "\n",
    "# Construct the decision diagram representation of the unitary\n",
    "sim.construct()\n",
    "\n",
    "# Get the decision diagram representation of the unitary\n",
    "dot = sim.export_dd_to_graphviz_str(colored=True, edge_labels=True, classic=False)\n",
    "\n",
    "graphviz.Source(source=dot)"
   ]
  },
  {
   "cell_type": "code",
   "execution_count": null,
   "id": "d08694c559cfcf61",
   "metadata": {},
   "outputs": [],
   "source": [
    "import numpy as np\n",
    "\n",
    "from mqt.ddsim import get_matrix\n",
    "\n",
    "unitary = np.zeros((2**qc.num_qubits, 2**qc.num_qubits), dtype=np.complex128)\n",
    "\n",
    "get_matrix(sim, unitary)\n",
    "\n",
    "unitary"
   ]
  },
  {
   "cell_type": "markdown",
   "id": "a0ec846307067688",
   "metadata": {},
   "source": [
    "### Decision diagrams are not always compact\n",
    "\n",
    "The following example aims to demonstrate that decision diagrams are not a holy grail to constructing unitaries for circuits. In the worst case, they are still exponentially large. At that point, a plain array representation most likely becomes more performant."
   ]
  },
  {
   "cell_type": "code",
   "execution_count": null,
   "id": "50c82a1d400b4107",
   "metadata": {},
   "outputs": [],
   "source": [
    "import numpy as np\n",
    "from qiskit import QuantumCircuit\n",
    "\n",
    "qc = QuantumCircuit(3)\n",
    "qc.h(2)\n",
    "qc.cp(np.pi / 2, 1, 2)\n",
    "qc.cp(np.pi / 4, 0, 2)\n",
    "qc.h(1)\n",
    "qc.cp(np.pi / 2, 0, 1)\n",
    "qc.h(0)\n",
    "qc.swap(0, 2)\n",
    "\n",
    "qc.draw(output=\"mpl\", style=\"iqp\", wire_order=[2, 1, 0])"
   ]
  },
  {
   "cell_type": "code",
   "execution_count": null,
   "id": "cb0f85b3bd04e61e",
   "metadata": {},
   "outputs": [],
   "source": [
    "import graphviz\n",
    "\n",
    "from mqt.core import load\n",
    "from mqt.ddsim import UnitarySimulator\n",
    "\n",
    "# Create the simulator\n",
    "circ = load(qc)\n",
    "sim = UnitarySimulator(circ)\n",
    "\n",
    "# Construct the decision diagram representation of the unitary\n",
    "sim.construct()\n",
    "\n",
    "# Get the decision diagram representation of the unitary\n",
    "dot = sim.export_dd_to_graphviz_str(colored=True, edge_labels=False, classic=False)\n",
    "\n",
    "graphviz.Source(source=dot)"
   ]
  },
  {
   "cell_type": "code",
   "execution_count": null,
   "id": "acb9072d5ef4fa8c",
   "metadata": {},
   "outputs": [],
   "source": [
    "import numpy as np\n",
    "\n",
    "from mqt.ddsim import get_matrix\n",
    "\n",
    "unitary = np.zeros((2**qc.num_qubits, 2**qc.num_qubits), dtype=np.complex128)\n",
    "\n",
    "get_matrix(sim, unitary)\n",
    "\n",
    "unitary"
   ]
  },
  {
   "cell_type": "markdown",
   "id": "536ec4360ee6515",
   "metadata": {},
   "source": [
    "## Usage as a Qiskit backend\n",
    "\n",
    "Similar to the circuit simulator, the unitary simulator can be conveniently used via a Qiskit backend."
   ]
  },
  {
   "cell_type": "code",
   "execution_count": null,
   "id": "be7d4319e55e7eb",
   "metadata": {},
   "outputs": [],
   "source": [
    "from qiskit import QuantumCircuit\n",
    "\n",
    "from mqt.ddsim import DDSIMProvider\n",
    "\n",
    "qc = QuantumCircuit(2)\n",
    "qc.h(0)\n",
    "qc.cx(0, 1)\n",
    "\n",
    "# get the DDSIM provider\n",
    "provider = DDSIMProvider()\n",
    "\n",
    "# get the backend\n",
    "backend = provider.get_backend(\"unitary_simulator\")\n",
    "\n",
    "# submit the job\n",
    "job = backend.run(qc)\n",
    "\n",
    "# get the result\n",
    "result = job.result()\n",
    "print(result.get_unitary(qc))"
   ]
  },
  {
   "cell_type": "markdown",
   "id": "644204bd65621f9f",
   "metadata": {},
   "source": [
    "Note that this only gives access to the final unitary and not the underlying decision diagram representing the unitary. As a consequence, this approach is inherently limited by the amount of memory available on your system.\n",
    "If you need access to the underlying decision diagram and/or do not need the final unitary matrix, consider using the standalone `UnitarySimulator` as described above.\n",
    "\n",
    "## Alternative construction sequence"
   ]
  },
  {
   "cell_type": "raw",
   "id": "cf2ba083-32f0-4c0b-822e-5c7058cad674",
   "metadata": {
    "raw_mimetype": "text/restructuredtext"
   },
   "source": [
    "It is well known, that the sequence in which the individual operations of a quantum circuit are applied can have a significant impact on the efficiency of the decision diagram representation. \n",
    "As a result, the straight-forward, sequential application of gates may not always yield the most compact intermediate decision diagram representations.\n",
    "The unitary simulator also supports an alternative construction sequence, which recursively groups gates and applies them in a tree-like fashion as described in :cite:p:`burgholzer2021efficient`."
   ]
  },
  {
   "cell_type": "markdown",
   "id": "9ede5caa70011014",
   "metadata": {},
   "source": [
    "Using the alternative construction sequence is as simple as setting `mode=\"recursive\"` when creating the simulator or passing the `mode` argument to the `backend.run` method when using the Qiskit backend."
   ]
  },
  {
   "cell_type": "code",
   "execution_count": null,
   "id": "a13f4b39cc833de2",
   "metadata": {},
   "outputs": [],
   "source": [
    "import graphviz\n",
    "from qiskit import QuantumCircuit\n",
    "\n",
    "from mqt.core import load\n",
    "from mqt.ddsim import ConstructionMode, UnitarySimulator\n",
    "\n",
    "qc = QuantumCircuit(3)\n",
    "qc.h(2)\n",
    "qc.h(1)\n",
    "qc.h(0)\n",
    "qc.cx(2, 1)\n",
    "\n",
    "# Create the simulator\n",
    "circ = load(qc)\n",
    "sim = UnitarySimulator(circ, mode=ConstructionMode.recursive)\n",
    "\n",
    "# Construct the decision diagram representation of the unitary\n",
    "sim.construct()\n",
    "\n",
    "# Get the decision diagram representation of the unitary\n",
    "dot = sim.export_dd_to_graphviz_str(colored=True, edge_labels=True, classic=False)\n",
    "\n",
    "graphviz.Source(source=dot)"
   ]
  }
 ],
 "metadata": {
  "kernelspec": {
   "display_name": "Python 3 (ipykernel)",
   "language": "python",
   "name": "python3"
  },
  "language_info": {
   "codemirror_mode": {
    "name": "ipython",
    "version": 3
   },
   "file_extension": ".py",
   "mimetype": "text/x-python",
   "name": "python",
   "nbconvert_exporter": "python",
   "pygments_lexer": "ipython3"
  }
 },
 "nbformat": 4,
 "nbformat_minor": 5
}
