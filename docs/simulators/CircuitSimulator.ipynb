{
 "cells": [
  {
   "cell_type": "markdown",
   "id": "a21a6272-89ba-4318-9805-093316b331a5",
   "metadata": {},
   "source": [
    "# Circuit Simulator\n",
    "\n",
    "The *Circuit Simulator* is a Schrödinger-style simulator based on decision diagrams (DDs) as a data structure that can be used to:"
   ]
  },
  {
   "cell_type": "raw",
   "id": "9537b2b0-5e77-4bd9-b5dc-b422b26f4e46",
   "metadata": {
    "raw_mimetype": "text/restructuredtext"
   },
   "source": [
    "- obtain the full state vector of the quantum circuit (\"strong simulation\") as originally proposed in :cite:p:`zulehner2019advanced`\n",
    "- sample from the output distribution of a quantum circuit (\"weak simulation\") as originally proposed in :cite:p:`DBLP:conf/dac/HillmichMW20`"
   ]
  },
  {
   "cell_type": "markdown",
   "id": "5d82a6e3-52ed-412a-810a-1e0e0113ef76",
   "metadata": {},
   "source": [
    "To this end, it starts off with the decision diagram representation of the initial state (generally, $|0\\dots 0\\rangle$) and then applies the gates of the circuit one by one. \n",
    "The DD representation of the state vector is updated in each step. \n",
    "The simulator can handle (almost) arbitrary quantum circuits, including those with mid-circuit measurements and resets.\n",
    "For circuits with no non-unitary operations (except for measurements at the end of the circuit) the simulation is only done once.\n",
    "In that case, the requested number of samples is subsequently drawn from the final decision diagram, resulting in fast runtime.\n",
    "\n",
    "For the purpose of this demonstration, we will use the following simple QASM circuit, which we save as `bell.qasm` in the current working directory:"
   ]
  },
  {
   "cell_type": "code",
   "execution_count": null,
   "id": "2132399145b373fe",
   "metadata": {},
   "outputs": [],
   "source": [
    "import locale\n",
    "from pathlib import Path\n",
    "\n",
    "qasm = \"\"\"\n",
    "OPENQASM 2.0;\n",
    "include \"qelib1.inc\";\n",
    "qreg q[2];\n",
    "creg c[2];\n",
    "h q[0];\n",
    "cx q[0],q[1];\n",
    "measure q[0] -> c[0];\n",
    "measure q[1] -> c[1];\n",
    "\"\"\"\n",
    "filename = \"bell.qasm\"\n",
    "with Path(filename).open(\"w\", encoding=locale.getpreferredencoding(False)) as f:\n",
    "    f.write(qasm)"
   ]
  },
  {
   "cell_type": "markdown",
   "id": "b51135fddddf0eea",
   "metadata": {},
   "source": [
    "This circuit creates a Bell state and measures the qubits.\n",
    "\n",
    "## Simulating a simple circuit\n",
    "\n",
    "Using the `CircuitSimulator` to simulate the circuit from the QASM file `bell.qasm` is straightforward."
   ]
  },
  {
   "cell_type": "code",
   "execution_count": null,
   "id": "f71193a9b66428e6",
   "metadata": {},
   "outputs": [],
   "source": [
    "from mqt.core import load\n",
    "from mqt.ddsim import CircuitSimulator\n",
    "\n",
    "# create a CircuitSimulator object\n",
    "qc = load(filename)\n",
    "sim = CircuitSimulator(qc)\n",
    "\n",
    "# run the simulation\n",
    "result = sim.simulate(shots=1024)\n",
    "\n",
    "# print the result\n",
    "print(result)"
   ]
  },
  {
   "cell_type": "markdown",
   "id": "972bf35c9647ff69",
   "metadata": {},
   "source": [
    "As expected, the output distribution is approximately 50% for the states $|00\\rangle$ and $|11\\rangle$ each.\n",
    "\n",
    "If we would like to obtain the full state vector of the quantum circuit, we can query it after the simulation as follows:"
   ]
  },
  {
   "cell_type": "code",
   "execution_count": null,
   "id": "7ffcba021b0c9180",
   "metadata": {},
   "outputs": [],
   "source": [
    "sv = sim.get_vector()\n",
    "print(sv)"
   ]
  },
  {
   "cell_type": "markdown",
   "id": "5736f73b8eac057",
   "metadata": {},
   "source": [
    "Note that getting the full state vector is only feasible for small circuits, as the memory and time requirements grow exponentially with the number of qubits.\n",
    "However, due to the nature of decision diagrams, the simulator can generally sample from the output distribution of much larger circuits than can be fully represented in memory.\n",
    "\n",
    "If you want to inspect the final decision diagram, you can get a Graphviz representation of it.\n",
    "For that, make sure that you have Graphviz installed and that the `graphviz` Python package is available.\n",
    "A simple `pip install graphviz` should do the trick.\n",
    "Then, you can call the `export_dd_to_graphviz_str` method on the simulator to obtain a Graphviz representation of the decision diagram. The following shows the default configuration options for the export."
   ]
  },
  {
   "cell_type": "code",
   "execution_count": null,
   "id": "9d0e47b6ce699098",
   "metadata": {},
   "outputs": [],
   "source": [
    "import graphviz\n",
    "\n",
    "dot = sim.export_dd_to_graphviz_str(colored=True, edge_labels=False, classic=False, memory=False, format_as_polar=True)\n",
    "\n",
    "graphviz.Source(source=dot)"
   ]
  },
  {
   "cell_type": "code",
   "execution_count": null,
   "id": "67fbf42bb00b92e5",
   "metadata": {},
   "outputs": [],
   "source": [
    "# clean up\n",
    "Path(filename).unlink()"
   ]
  },
  {
   "cell_type": "markdown",
   "id": "2923d21a4938dbf",
   "metadata": {},
   "source": [
    "## Using Qiskit `QuantumCircuit` objects as input\n",
    "\n",
    "The `CircuitSimulator` can also be directly used with Qiskit's `QuantumCircuit` objects, which can be more convenient for some users.\n",
    "THe above computation can be done as follows:"
   ]
  },
  {
   "cell_type": "code",
   "execution_count": null,
   "id": "723c8942087e6fd3",
   "metadata": {},
   "outputs": [],
   "source": [
    "from qiskit import QuantumCircuit\n",
    "\n",
    "# create the Bell circuit\n",
    "qc = QuantumCircuit(2, 2)\n",
    "qc.h(0)\n",
    "qc.cx(0, 1)\n",
    "qc.measure([0, 1], [0, 1])\n",
    "\n",
    "# create a CircuitSimulator object\n",
    "circ = load(qc)\n",
    "sim = CircuitSimulator(circ)\n",
    "\n",
    "# run the simulation\n",
    "result = sim.simulate(shots=1024)\n",
    "\n",
    "# print the result\n",
    "print(result)"
   ]
  },
  {
   "cell_type": "markdown",
   "id": "76e4b4e4f7897941",
   "metadata": {},
   "source": [
    "## Simulating a circuit with mid-circuit measurements\n",
    "\n",
    "The `CircuitSimulator` can also handle circuits with mid-circuit measurements and resets. The following shows an example of Iterative Quantum Phase Estimation (IQPE) with a mid-circuit measurement. \n",
    "The circuit tries to iteratively estimate the phase of a unitary $U=p(3\\pi/8)$ with 3-bit precision.\n",
    "We seek $\\theta=3/16=0.0011_2$, which is not exactly representable using 3 bits, so the best we can expect is high probabilities for $0.c_2 c_1 c_0 = 001$ and $010$."
   ]
  },
  {
   "cell_type": "code",
   "execution_count": null,
   "id": "d856d6a00f6b544e",
   "metadata": {},
   "outputs": [],
   "source": [
    "import locale\n",
    "from pathlib import Path\n",
    "\n",
    "qasm = \"\"\"\n",
    "OPENQASM 3.0;\n",
    "include \"stdgates.inc\";\n",
    "\n",
    "// counting register\n",
    "qubit[1] q;\n",
    "\n",
    "// eigenstate register\n",
    "qubit[1] psi;\n",
    "\n",
    "// classical registers\n",
    "bit[3] c;\n",
    "\n",
    "// initialize eigenstate psi = |1>\n",
    "x psi;\n",
    "\n",
    "// start by computing LSB c_0\n",
    "h q;\n",
    "cp(4 * (3*pi/8)) psi, q;\n",
    "h q;\n",
    "c[0] = measure q[0];\n",
    "\n",
    "// reset counting qubit and compute middle bit c_1\n",
    "reset q;\n",
    "h q;\n",
    "cp(2 * (3*pi/8)) psi, q;\n",
    "if (c == 1) p(-pi/2) q;\n",
    "h q;\n",
    "c[1] = measure q[0];\n",
    "\n",
    "// reset counting qubit and compute MSB c_2\n",
    "reset q;\n",
    "h q;\n",
    "cp(1 * (3*pi/8)) psi, q;\n",
    "if (c == 1) p(1 * -pi/4) q;\n",
    "if (c == 2) p(2 * -pi/4) q;\n",
    "if (c == 3) p(3 * -pi/4) q;\n",
    "h q;\n",
    "c[2] = measure q[0];\n",
    "\"\"\"\n",
    "filename = \"iqpe.qasm\"\n",
    "with Path(filename).open(\"w\", encoding=locale.getpreferredencoding(False)) as f:\n",
    "    f.write(qasm)"
   ]
  },
  {
   "cell_type": "code",
   "execution_count": null,
   "id": "c5db89da6c951504",
   "metadata": {},
   "outputs": [],
   "source": [
    "from qiskit import qasm3\n",
    "\n",
    "qc = qasm3.loads(qasm)\n",
    "qc.draw(output=\"mpl\", style=\"iqp\")"
   ]
  },
  {
   "cell_type": "code",
   "execution_count": null,
   "id": "31d6acb2092e0ba9",
   "metadata": {},
   "outputs": [],
   "source": [
    "from mqt.core import load\n",
    "from mqt.ddsim import CircuitSimulator\n",
    "\n",
    "# create a CircuitSimulator object\n",
    "circ = load(filename)\n",
    "sim = CircuitSimulator(circ)\n",
    "\n",
    "# run the simulation\n",
    "result = sim.simulate(shots=1024)\n",
    "\n",
    "# print the result\n",
    "print(result)"
   ]
  },
  {
   "cell_type": "code",
   "execution_count": null,
   "id": "65053f391a2ffee4",
   "metadata": {},
   "outputs": [],
   "source": [
    "# clean up\n",
    "Path(filename).unlink()"
   ]
  },
  {
   "cell_type": "markdown",
   "id": "1c29c160db3778e8",
   "metadata": {},
   "source": [
    "## Usage as a Qiskit backend\n",
    "\n",
    "The `CircuitSimulator` can also be easily used as a backend for Qiskit.\n",
    "To this end, the `CircuitSimulator` class is wrapped to implement the `BackendV2` interface of Qiskit, which allows using it as a drop-in replacement for any other Qiskit backend, such as the `AerSimulator`.\n",
    "\n",
    "All of the backends available from mqt-ddsim are available from the `DDSIMProvider` class, which can be used to obtain a backend instance."
   ]
  },
  {
   "cell_type": "code",
   "execution_count": null,
   "id": "d2dfa1371c83cf0a",
   "metadata": {},
   "outputs": [],
   "source": [
    "from mqt.ddsim import DDSIMProvider\n",
    "\n",
    "provider = DDSIMProvider()"
   ]
  },
  {
   "cell_type": "markdown",
   "id": "afc76cd69fd49ff6",
   "metadata": {},
   "source": [
    "The `CircuitSimulator` is offered as two separate backends, the `qasm_simulator` and the `statevector_simulator`, which perform weak and strong simulation, respectively.\n",
    "\n",
    "Let's first create a simple quantum circuit again"
   ]
  },
  {
   "cell_type": "code",
   "execution_count": null,
   "id": "4383576d26cb3deb",
   "metadata": {},
   "outputs": [],
   "source": [
    "from qiskit import QuantumCircuit\n",
    "\n",
    "# create the Bell circuit\n",
    "qc = QuantumCircuit(2, 2)\n",
    "qc.h(0)\n",
    "qc.cx(0, 1)\n",
    "qc.measure([0, 1], [0, 1])\n",
    "\n",
    "qc.draw(output=\"mpl\", style=\"iqp\")"
   ]
  },
  {
   "cell_type": "markdown",
   "id": "f313ad655b55ef6d",
   "metadata": {},
   "source": [
    "We can now use the `qasm_simulator` backend to simulate the circuit."
   ]
  },
  {
   "cell_type": "code",
   "execution_count": null,
   "id": "b46ed5701bb7a7e2",
   "metadata": {},
   "outputs": [],
   "source": [
    "# get the backend\n",
    "backend = provider.get_backend(\"qasm_simulator\")\n",
    "\n",
    "# submit the job\n",
    "job = backend.run(qc, shots=100000)\n",
    "\n",
    "# get the result\n",
    "result = job.result()\n",
    "print(result.get_counts())"
   ]
  },
  {
   "cell_type": "markdown",
   "id": "ba63791f37ef237",
   "metadata": {},
   "source": [
    "Again, we can also use the `statevector_simulator` backend to obtain the full state vector of the quantum circuit."
   ]
  },
  {
   "cell_type": "code",
   "execution_count": null,
   "id": "90791a0da3e0f85f",
   "metadata": {},
   "outputs": [],
   "source": [
    "# get the backend\n",
    "backend = provider.get_backend(\"statevector_simulator\")\n",
    "\n",
    "# submit the job\n",
    "job = backend.run(qc)\n",
    "\n",
    "# get the result\n",
    "result = job.result()\n",
    "print(result.get_statevector())"
   ]
  },
  {
   "cell_type": "markdown",
   "id": "1e9e3b85b6dc3ac6",
   "metadata": {},
   "source": [
    "## Usage as standalone C++ executable\n",
    "\n",
    "To build the standalone C++ simulator executable, build the `ddsim_simple` (the name stuck due to historical reasons ;) ) CMake target and run the resulting executable with options according to your needs.\n",
    "\n",
    "```console\n",
    "$ ./ddsim_simple --help\n",
    "MQT DDSIM by https://www.cda.cit.tum.de/ -- Allowed options:\n",
    "-h [ --help ]                         produce help message\n",
    "--seed arg (=0)                       seed for random number generator (default zero is possibly directly used as seed!)\n",
    "--shots arg (=0)                      number of measurements (if the algorithm does not contain non-unitary gates, weak simulation is used)\n",
    "--pv                                  display the state vector as list of pairs (real and imaginary parts)\n",
    "--ps                                  print simulation stats (applied gates, sim. time, and maximal size of the DD)\n",
    "--pm                                  print measurement results\n",
    "--pcomplex                            print print additional statistics on complex numbers\n",
    "--verbose                             Causes some simulators to print additional information to STDERR\n",
    "--simulate_file arg                   simulate a quantum circuit given by file (detection by the file extension)\n",
    "--simulate_qft arg                    simulate Quantum Fourier Transform for given number of qubits\n",
    "--simulate_ghz arg                    simulate state preparation of GHZ state for given number of qubits\n",
    "--step_fidelity arg (=1)              target fidelity for each approximation run (>=1 = disable approximation)\n",
    "--steps arg (=1)                      number of approximation steps\n",
    "```\n",
    "\n",
    "The output is JSON-formatted as shown below (with hopefully intuitive naming).\n",
    "\n",
    "```bash\n",
    "    $ cmake -DCMAKE_BUILD_TYPE=Release -S . -B build\n",
    "    $ cmake --build build --config Release --target ddsim_simple\n",
    "    $ ./build/ddsim_simple --simulate_ghz 4 --shots 1000 --ps --pm\n",
    "    {\n",
    "      \"measurement_results\": {\n",
    "        \"0000\": 484,\n",
    "        \"1111\": 516\n",
    "      },\n",
    "      \"statistics\": {\n",
    "        \"applied_gates\": 4,\n",
    "        \"approximation_runs\": \"0\",\n",
    "        \"benchmark\": \"entanglement_4\",\n",
    "        \"distinct_results\": 2,\n",
    "        \"final_fidelity\": \"1.000000\",\n",
    "        \"max_nodes\": 9,\n",
    "        \"n_qubits\": 4,\n",
    "        \"seed\": \"0\",\n",
    "        \"shots\": 1000,\n",
    "        \"simulation_time\": 0.00013726699398830533,\n",
    "        \"single_shots\": \"1\",\n",
    "        \"step_fidelity\": \"1.000000\"\n",
    "      }\n",
    "    }\n",
    "```"
   ]
  }
 ],
 "metadata": {
  "kernelspec": {
   "display_name": "Python 3 (ipykernel)",
   "language": "python",
   "name": "python3"
  },
  "language_info": {
   "codemirror_mode": {
    "name": "ipython",
    "version": 3
   },
   "file_extension": ".py",
   "mimetype": "text/x-python",
   "name": "python",
   "nbconvert_exporter": "python",
   "pygments_lexer": "ipython3"
  }
 },
 "nbformat": 4,
 "nbformat_minor": 5
}
